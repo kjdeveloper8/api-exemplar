{
 "cells": [
  {
   "cell_type": "markdown",
   "id": "4d45723b-ef43-4070-ad47-3df6397db0c1",
   "metadata": {},
   "source": [
    "## Yfinance Example\n",
    "\n",
    "[yfinance repo](https://github.com/ranaroussi/yfinance)"
   ]
  },
  {
   "cell_type": "code",
   "execution_count": 1,
   "id": "f9f475d0-e4b2-4439-a22d-abaa2255ffe7",
   "metadata": {},
   "outputs": [],
   "source": [
    "# !pip install yfinance -q"
   ]
  },
  {
   "cell_type": "code",
   "execution_count": 2,
   "id": "a9b58b8c-8db3-4b31-a46e-f45de7c464cb",
   "metadata": {},
   "outputs": [],
   "source": [
    "import yfinance as yf"
   ]
  },
  {
   "cell_type": "code",
   "execution_count": 3,
   "id": "fd0c6a86-a362-4ab4-9dbd-b5312341e474",
   "metadata": {},
   "outputs": [],
   "source": [
    "# init ticker\n",
    "google = yf.Ticker(\"GOOG\")"
   ]
  },
  {
   "cell_type": "code",
   "execution_count": 10,
   "id": "0b7c6944-9b71-48fc-ace0-3bc0442580ef",
   "metadata": {},
   "outputs": [
    {
     "data": {
      "text/plain": [
       "['address1',\n",
       " 'city',\n",
       " 'state',\n",
       " 'zip',\n",
       " 'country',\n",
       " 'phone',\n",
       " 'website',\n",
       " 'industry',\n",
       " 'industryKey',\n",
       " 'industryDisp']"
      ]
     },
     "execution_count": 10,
     "metadata": {},
     "output_type": "execute_result"
    }
   ],
   "source": [
    "# stock info\n",
    "# google.info\n",
    "list(google.info)[:10]"
   ]
  },
  {
   "cell_type": "code",
   "execution_count": 14,
   "id": "e3374d72-f80e-4a38-8097-c49a2baca576",
   "metadata": {},
   "outputs": [],
   "source": [
    "# historical data\n",
    "history = google.history(period=\"5d\") # ['1d', '5d', '1mo', '3mo', '6mo', '1y', '2y', '5y', '10y', 'ytd', 'max']"
   ]
  },
  {
   "cell_type": "code",
   "execution_count": 15,
   "id": "77270850-ea14-45da-b2a9-475a44ef68b9",
   "metadata": {},
   "outputs": [
    {
     "data": {
      "text/html": [
       "<div>\n",
       "<style scoped>\n",
       "    .dataframe tbody tr th:only-of-type {\n",
       "        vertical-align: middle;\n",
       "    }\n",
       "\n",
       "    .dataframe tbody tr th {\n",
       "        vertical-align: top;\n",
       "    }\n",
       "\n",
       "    .dataframe thead th {\n",
       "        text-align: right;\n",
       "    }\n",
       "</style>\n",
       "<table border=\"1\" class=\"dataframe\">\n",
       "  <thead>\n",
       "    <tr style=\"text-align: right;\">\n",
       "      <th></th>\n",
       "      <th>Open</th>\n",
       "      <th>High</th>\n",
       "      <th>Low</th>\n",
       "      <th>Close</th>\n",
       "      <th>Volume</th>\n",
       "      <th>Dividends</th>\n",
       "      <th>Stock Splits</th>\n",
       "    </tr>\n",
       "    <tr>\n",
       "      <th>Date</th>\n",
       "      <th></th>\n",
       "      <th></th>\n",
       "      <th></th>\n",
       "      <th></th>\n",
       "      <th></th>\n",
       "      <th></th>\n",
       "      <th></th>\n",
       "    </tr>\n",
       "  </thead>\n",
       "  <tbody>\n",
       "    <tr>\n",
       "      <th>2024-07-24 00:00:00-04:00</th>\n",
       "      <td>175.389999</td>\n",
       "      <td>177.949997</td>\n",
       "      <td>173.570007</td>\n",
       "      <td>174.369995</td>\n",
       "      <td>31250700</td>\n",
       "      <td>0.0</td>\n",
       "      <td>0.0</td>\n",
       "    </tr>\n",
       "    <tr>\n",
       "      <th>2024-07-25 00:00:00-04:00</th>\n",
       "      <td>174.250000</td>\n",
       "      <td>175.199997</td>\n",
       "      <td>169.050003</td>\n",
       "      <td>169.160004</td>\n",
       "      <td>28967900</td>\n",
       "      <td>0.0</td>\n",
       "      <td>0.0</td>\n",
       "    </tr>\n",
       "    <tr>\n",
       "      <th>2024-07-26 00:00:00-04:00</th>\n",
       "      <td>168.770004</td>\n",
       "      <td>169.839996</td>\n",
       "      <td>165.865005</td>\n",
       "      <td>168.679993</td>\n",
       "      <td>25150100</td>\n",
       "      <td>0.0</td>\n",
       "      <td>0.0</td>\n",
       "    </tr>\n",
       "    <tr>\n",
       "      <th>2024-07-29 00:00:00-04:00</th>\n",
       "      <td>170.500000</td>\n",
       "      <td>172.160004</td>\n",
       "      <td>169.720001</td>\n",
       "      <td>171.130005</td>\n",
       "      <td>13768900</td>\n",
       "      <td>0.0</td>\n",
       "      <td>0.0</td>\n",
       "    </tr>\n",
       "    <tr>\n",
       "      <th>2024-07-30 00:00:00-04:00</th>\n",
       "      <td>171.830002</td>\n",
       "      <td>172.949997</td>\n",
       "      <td>170.119995</td>\n",
       "      <td>171.860001</td>\n",
       "      <td>13631000</td>\n",
       "      <td>0.0</td>\n",
       "      <td>0.0</td>\n",
       "    </tr>\n",
       "  </tbody>\n",
       "</table>\n",
       "</div>"
      ],
      "text/plain": [
       "                                 Open        High         Low       Close  \\\n",
       "Date                                                                        \n",
       "2024-07-24 00:00:00-04:00  175.389999  177.949997  173.570007  174.369995   \n",
       "2024-07-25 00:00:00-04:00  174.250000  175.199997  169.050003  169.160004   \n",
       "2024-07-26 00:00:00-04:00  168.770004  169.839996  165.865005  168.679993   \n",
       "2024-07-29 00:00:00-04:00  170.500000  172.160004  169.720001  171.130005   \n",
       "2024-07-30 00:00:00-04:00  171.830002  172.949997  170.119995  171.860001   \n",
       "\n",
       "                             Volume  Dividends  Stock Splits  \n",
       "Date                                                          \n",
       "2024-07-24 00:00:00-04:00  31250700        0.0           0.0  \n",
       "2024-07-25 00:00:00-04:00  28967900        0.0           0.0  \n",
       "2024-07-26 00:00:00-04:00  25150100        0.0           0.0  \n",
       "2024-07-29 00:00:00-04:00  13768900        0.0           0.0  \n",
       "2024-07-30 00:00:00-04:00  13631000        0.0           0.0  "
      ]
     },
     "execution_count": 15,
     "metadata": {},
     "output_type": "execute_result"
    }
   ],
   "source": [
    "history"
   ]
  },
  {
   "cell_type": "code",
   "execution_count": 16,
   "id": "5613f0e3-16f2-4057-9243-a41946d3acd3",
   "metadata": {},
   "outputs": [
    {
     "data": {
      "text/plain": [
       "2024-01-02 00:00:00-05:00    12456200192\n",
       "2024-01-03 00:00:00-05:00    12449300480\n",
       "2024-01-04 00:00:00-05:00    12446300160\n",
       "2024-01-05 00:00:00-05:00    12655500288\n",
       "2024-01-05 00:00:00-05:00    12434799616\n",
       "                                ...     \n",
       "2024-07-25 00:00:00-04:00    12625899520\n",
       "2024-07-26 00:00:00-04:00    12236399616\n",
       "2024-07-27 00:00:00-04:00    12243399680\n",
       "2024-07-30 00:00:00-04:00    12247100416\n",
       "2024-07-31 00:00:00-04:00    12195099648\n",
       "Length: 179, dtype: int64"
      ]
     },
     "execution_count": 16,
     "metadata": {},
     "output_type": "execute_result"
    }
   ],
   "source": [
    "# share count\n",
    "google.get_shares_full(start=\"2024-01-01\", end=None)"
   ]
  },
  {
   "cell_type": "code",
   "execution_count": 19,
   "id": "1c894cc6-41bb-4870-acc9-8d39677e88e5",
   "metadata": {},
   "outputs": [
    {
     "data": {
      "text/html": [
       "<div>\n",
       "<style scoped>\n",
       "    .dataframe tbody tr th:only-of-type {\n",
       "        vertical-align: middle;\n",
       "    }\n",
       "\n",
       "    .dataframe tbody tr th {\n",
       "        vertical-align: top;\n",
       "    }\n",
       "\n",
       "    .dataframe thead th {\n",
       "        text-align: right;\n",
       "    }\n",
       "</style>\n",
       "<table border=\"1\" class=\"dataframe\">\n",
       "  <thead>\n",
       "    <tr style=\"text-align: right;\">\n",
       "      <th></th>\n",
       "      <th>2023-12-31</th>\n",
       "      <th>2022-12-31</th>\n",
       "      <th>2021-12-31</th>\n",
       "      <th>2020-12-31</th>\n",
       "      <th>2019-12-31</th>\n",
       "    </tr>\n",
       "  </thead>\n",
       "  <tbody>\n",
       "    <tr>\n",
       "      <th>Tax Effect Of Unusual Items</th>\n",
       "      <td>-286479000.0</td>\n",
       "      <td>-981507000.0</td>\n",
       "      <td>1948860000.0</td>\n",
       "      <td>970572126.783412</td>\n",
       "      <td>NaN</td>\n",
       "    </tr>\n",
       "    <tr>\n",
       "      <th>Tax Rate For Calcs</th>\n",
       "      <td>0.139</td>\n",
       "      <td>0.159</td>\n",
       "      <td>0.162</td>\n",
       "      <td>0.162493</td>\n",
       "      <td>NaN</td>\n",
       "    </tr>\n",
       "    <tr>\n",
       "      <th>Normalized EBITDA</th>\n",
       "      <td>100032000000.0</td>\n",
       "      <td>91333000000.0</td>\n",
       "      <td>91491000000.0</td>\n",
       "      <td>55941000000.0</td>\n",
       "      <td>NaN</td>\n",
       "    </tr>\n",
       "    <tr>\n",
       "      <th>Total Unusual Items</th>\n",
       "      <td>-2061000000.0</td>\n",
       "      <td>-6173000000.0</td>\n",
       "      <td>12030000000.0</td>\n",
       "      <td>5973000000.0</td>\n",
       "      <td>NaN</td>\n",
       "    </tr>\n",
       "    <tr>\n",
       "      <th>Total Unusual Items Excluding Goodwill</th>\n",
       "      <td>-2061000000.0</td>\n",
       "      <td>-6173000000.0</td>\n",
       "      <td>12030000000.0</td>\n",
       "      <td>5973000000.0</td>\n",
       "      <td>NaN</td>\n",
       "    </tr>\n",
       "  </tbody>\n",
       "</table>\n",
       "</div>"
      ],
      "text/plain": [
       "                                            2023-12-31     2022-12-31  \\\n",
       "Tax Effect Of Unusual Items               -286479000.0   -981507000.0   \n",
       "Tax Rate For Calcs                               0.139          0.159   \n",
       "Normalized EBITDA                       100032000000.0  91333000000.0   \n",
       "Total Unusual Items                      -2061000000.0  -6173000000.0   \n",
       "Total Unusual Items Excluding Goodwill   -2061000000.0  -6173000000.0   \n",
       "\n",
       "                                           2021-12-31        2020-12-31  \\\n",
       "Tax Effect Of Unusual Items              1948860000.0  970572126.783412   \n",
       "Tax Rate For Calcs                              0.162          0.162493   \n",
       "Normalized EBITDA                       91491000000.0     55941000000.0   \n",
       "Total Unusual Items                     12030000000.0      5973000000.0   \n",
       "Total Unusual Items Excluding Goodwill  12030000000.0      5973000000.0   \n",
       "\n",
       "                                       2019-12-31  \n",
       "Tax Effect Of Unusual Items                   NaN  \n",
       "Tax Rate For Calcs                            NaN  \n",
       "Normalized EBITDA                             NaN  \n",
       "Total Unusual Items                           NaN  \n",
       "Total Unusual Items Excluding Goodwill        NaN  "
      ]
     },
     "execution_count": 19,
     "metadata": {},
     "output_type": "execute_result"
    }
   ],
   "source": [
    "# income stmt\n",
    "google.income_stmt.head(5)"
   ]
  },
  {
   "cell_type": "code",
   "execution_count": 20,
   "id": "b36b6170-c58b-4693-8b98-d02e47206301",
   "metadata": {},
   "outputs": [
    {
     "data": {
      "text/html": [
       "<div>\n",
       "<style scoped>\n",
       "    .dataframe tbody tr th:only-of-type {\n",
       "        vertical-align: middle;\n",
       "    }\n",
       "\n",
       "    .dataframe tbody tr th {\n",
       "        vertical-align: top;\n",
       "    }\n",
       "\n",
       "    .dataframe thead th {\n",
       "        text-align: right;\n",
       "    }\n",
       "</style>\n",
       "<table border=\"1\" class=\"dataframe\">\n",
       "  <thead>\n",
       "    <tr style=\"text-align: right;\">\n",
       "      <th></th>\n",
       "      <th>2023-12-31</th>\n",
       "      <th>2022-12-31</th>\n",
       "      <th>2021-12-31</th>\n",
       "      <th>2020-12-31</th>\n",
       "      <th>2019-12-31</th>\n",
       "    </tr>\n",
       "  </thead>\n",
       "  <tbody>\n",
       "    <tr>\n",
       "      <th>Treasury Shares Number</th>\n",
       "      <td>0.0</td>\n",
       "      <td>NaN</td>\n",
       "      <td>NaN</td>\n",
       "      <td>NaN</td>\n",
       "      <td>NaN</td>\n",
       "    </tr>\n",
       "    <tr>\n",
       "      <th>Ordinary Shares Number</th>\n",
       "      <td>12460000000.0</td>\n",
       "      <td>12849000000.0</td>\n",
       "      <td>13242420000.0</td>\n",
       "      <td>13504440000.0</td>\n",
       "      <td>NaN</td>\n",
       "    </tr>\n",
       "    <tr>\n",
       "      <th>Share Issued</th>\n",
       "      <td>12460000000.0</td>\n",
       "      <td>12849000000.0</td>\n",
       "      <td>13242420000.0</td>\n",
       "      <td>13504440000.0</td>\n",
       "      <td>NaN</td>\n",
       "    </tr>\n",
       "    <tr>\n",
       "      <th>Total Debt</th>\n",
       "      <td>28504000000.0</td>\n",
       "      <td>29679000000.0</td>\n",
       "      <td>28395000000.0</td>\n",
       "      <td>26772000000.0</td>\n",
       "      <td>NaN</td>\n",
       "    </tr>\n",
       "    <tr>\n",
       "      <th>Tangible Book Value</th>\n",
       "      <td>254181000000.0</td>\n",
       "      <td>227184000000.0</td>\n",
       "      <td>227262000000.0</td>\n",
       "      <td>199924000000.0</td>\n",
       "      <td>NaN</td>\n",
       "    </tr>\n",
       "  </tbody>\n",
       "</table>\n",
       "</div>"
      ],
      "text/plain": [
       "                            2023-12-31      2022-12-31      2021-12-31  \\\n",
       "Treasury Shares Number             0.0             NaN             NaN   \n",
       "Ordinary Shares Number   12460000000.0   12849000000.0   13242420000.0   \n",
       "Share Issued             12460000000.0   12849000000.0   13242420000.0   \n",
       "Total Debt               28504000000.0   29679000000.0   28395000000.0   \n",
       "Tangible Book Value     254181000000.0  227184000000.0  227262000000.0   \n",
       "\n",
       "                            2020-12-31 2019-12-31  \n",
       "Treasury Shares Number             NaN        NaN  \n",
       "Ordinary Shares Number   13504440000.0        NaN  \n",
       "Share Issued             13504440000.0        NaN  \n",
       "Total Debt               26772000000.0        NaN  \n",
       "Tangible Book Value     199924000000.0        NaN  "
      ]
     },
     "execution_count": 20,
     "metadata": {},
     "output_type": "execute_result"
    }
   ],
   "source": [
    "# balance sheet\n",
    "google.balance_sheet.head(5)"
   ]
  },
  {
   "cell_type": "code",
   "execution_count": 22,
   "id": "88927492-6a40-4309-a630-f1ff3db79543",
   "metadata": {},
   "outputs": [
    {
     "data": {
      "text/html": [
       "<div>\n",
       "<style scoped>\n",
       "    .dataframe tbody tr th:only-of-type {\n",
       "        vertical-align: middle;\n",
       "    }\n",
       "\n",
       "    .dataframe tbody tr th {\n",
       "        vertical-align: top;\n",
       "    }\n",
       "\n",
       "    .dataframe thead th {\n",
       "        text-align: right;\n",
       "    }\n",
       "</style>\n",
       "<table border=\"1\" class=\"dataframe\">\n",
       "  <thead>\n",
       "    <tr style=\"text-align: right;\">\n",
       "      <th>Breakdown</th>\n",
       "      <th>Value</th>\n",
       "    </tr>\n",
       "  </thead>\n",
       "  <tbody>\n",
       "    <tr>\n",
       "      <th>insidersPercentHeld</th>\n",
       "      <td>0.00017</td>\n",
       "    </tr>\n",
       "    <tr>\n",
       "      <th>institutionsPercentHeld</th>\n",
       "      <td>0.62115</td>\n",
       "    </tr>\n",
       "    <tr>\n",
       "      <th>institutionsFloatPercentHeld</th>\n",
       "      <td>0.62126</td>\n",
       "    </tr>\n",
       "    <tr>\n",
       "      <th>institutionsCount</th>\n",
       "      <td>4909.00000</td>\n",
       "    </tr>\n",
       "  </tbody>\n",
       "</table>\n",
       "</div>"
      ],
      "text/plain": [
       "Breakdown                          Value\n",
       "insidersPercentHeld              0.00017\n",
       "institutionsPercentHeld          0.62115\n",
       "institutionsFloatPercentHeld     0.62126\n",
       "institutionsCount             4909.00000"
      ]
     },
     "execution_count": 22,
     "metadata": {},
     "output_type": "execute_result"
    }
   ],
   "source": [
    "# holder info\n",
    "google.major_holders"
   ]
  },
  {
   "cell_type": "code",
   "execution_count": 24,
   "id": "14a60468-9278-4839-8282-aac445003a4d",
   "metadata": {},
   "outputs": [
    {
     "data": {
      "text/plain": [
       "{'uuid': 'f4b73dfc-a3f5-300c-a1c7-7424a0daad1b',\n",
       " 'title': 'Microsoft’s Azure Growth Slows, Testing Investors’ Patience',\n",
       " 'publisher': 'Bloomberg',\n",
       " 'link': 'https://finance.yahoo.com/news/microsoft-reports-slower-azure-cloud-203040185.html',\n",
       " 'providerPublishTime': 1722382671,\n",
       " 'type': 'STORY',\n",
       " 'thumbnail': {'resolutions': [{'url': 'https://s.yimg.com/uu/api/res/1.2/bhjpsLhkKxOh56Wi3Uv83A--~B/aD0xMzM0O3c9MjAwMDthcHBpZD15dGFjaHlvbg--/https://media.zenfs.com/en/bloomberg_technology_68/d020a04ac916a32bdb621726838a58e9',\n",
       "    'width': 2000,\n",
       "    'height': 1334,\n",
       "    'tag': 'original'},\n",
       "   {'url': 'https://s.yimg.com/uu/api/res/1.2/J5gNJ2utuxEah3LRMKyCNg--~B/Zmk9ZmlsbDtoPTE0MDtweW9mZj0wO3c9MTQwO2FwcGlkPXl0YWNoeW9u/https://media.zenfs.com/en/bloomberg_technology_68/d020a04ac916a32bdb621726838a58e9',\n",
       "    'width': 140,\n",
       "    'height': 140,\n",
       "    'tag': '140x140'}]},\n",
       " 'relatedTickers': ['MSFT', 'GOOG']}"
      ]
     },
     "execution_count": 24,
     "metadata": {},
     "output_type": "execute_result"
    }
   ],
   "source": [
    "# news\n",
    "google.news[0]"
   ]
  },
  {
   "cell_type": "code",
   "execution_count": null,
   "id": "263ce71e-34ec-4f7f-83e9-809ea78dead4",
   "metadata": {},
   "outputs": [],
   "source": []
  }
 ],
 "metadata": {
  "kernelspec": {
   "display_name": "Python 3 (ipykernel)",
   "language": "python",
   "name": "python3"
  },
  "language_info": {
   "codemirror_mode": {
    "name": "ipython",
    "version": 3
   },
   "file_extension": ".py",
   "mimetype": "text/x-python",
   "name": "python",
   "nbconvert_exporter": "python",
   "pygments_lexer": "ipython3",
   "version": "3.12.3"
  }
 },
 "nbformat": 4,
 "nbformat_minor": 5
}
